{
 "cells": [
  {
   "cell_type": "markdown",
   "metadata": {},
   "source": [
    "# Lesson 1 Exercise 1: Creating Table with PostgreSQL"
   ]
  },
  {
   "cell_type": "code",
   "execution_count": 2,
   "metadata": {},
   "outputs": [],
   "source": [
    "# Import library\n",
    "import psycopg2"
   ]
  },
  {
   "cell_type": "code",
   "execution_count": 6,
   "metadata": {},
   "outputs": [
    {
     "name": "stdout",
     "output_type": "stream",
     "text": [
      "Successful connection\n"
     ]
    }
   ],
   "source": [
    "# Create connection to Postgres Database\n",
    "try:\n",
    "    conn = psycopg2.connect(\"host=127.0.0.1 dbname=postgres user=postgres password=root\")\n",
    "    print(\"Successful connection\")\n",
    "except psycopg2.Error as e:\n",
    "    print(\"Error: Could not make connection to the Postgres database\")\n",
    "    print(e)"
   ]
  },
  {
   "cell_type": "code",
   "execution_count": 7,
   "metadata": {},
   "outputs": [],
   "source": [
    "# Use connection to get cursor for executing queries\n",
    "try:\n",
    "    cur = conn.cursor()\n",
    "except psycopg2.Error as e:\n",
    "    print(\"Error: Could not get cursor to the Database\")\n",
    "    print(e)"
   ]
  },
  {
   "cell_type": "code",
   "execution_count": 8,
   "metadata": {},
   "outputs": [],
   "source": [
    "# Automate commit\n",
    "# No need for conn.commit() after each command\n",
    "conn.set_session(autocommit=True)"
   ]
  },
  {
   "cell_type": "code",
   "execution_count": 9,
   "metadata": {},
   "outputs": [],
   "source": [
    "# Create a database\n",
    "try:\n",
    "    cur.execute(\"CREATE DATABASE myFirstDb\")\n",
    "except psycopg2.Error as e:\n",
    "    print(e)"
   ]
  },
  {
   "cell_type": "markdown",
   "metadata": {},
   "source": [
    "### Close current connection\n",
    "### Reconnect to newly created database and get new cursor"
   ]
  },
  {
   "cell_type": "code",
   "execution_count": 10,
   "metadata": {},
   "outputs": [],
   "source": [
    "try:\n",
    "    conn.close()\n",
    "except psycopg2.Error as e:\n",
    "    print(e)\n",
    "\n",
    "try:\n",
    "    conn = psycopg2.connect(\"host=127.0.0.1 dbname=myfirstdb user=postgres password=root\")\n",
    "except psycopg2.Error as e:\n",
    "    print(e)\n",
    "\n",
    "try:\n",
    "    cur = conn.cursor()\n",
    "except psycopg2.Error as e:\n",
    "    print(\"Error: Could not get cursor to the database\")\n",
    "    print(e)\n",
    "\n",
    "conn.set_session(autocommit=True)"
   ]
  },
  {
   "cell_type": "code",
   "execution_count": 16,
   "metadata": {},
   "outputs": [],
   "source": [
    "# Create first table\n",
    "try:\n",
    "    cur.execute(\"CREATE TABLE IF NOT EXISTS students (student_id int, name varchar, age int, gender varchar, subject varchar, marks int);\")\n",
    "except psycopg2.Error as e:\n",
    "    print(\"Error: Problem in creating table\")\n",
    "    print(e)"
   ]
  },
  {
   "cell_type": "code",
   "execution_count": 17,
   "metadata": {},
   "outputs": [],
   "source": [
    "# Insert data into students table\n",
    "try:\n",
    "    cur.execute(\"INSERT INTO students (student_id, name, age, gender, subject, marks) \\\n",
    "                VALUES (%s, %s, %s, %s, %s, %s)\", \\\n",
    "                    (1, \"Lee\", 23, \"Male\", \"python\", 85))\n",
    "except psycopg2.Error as e:\n",
    "    print(\"Error: Insert data to tables\")\n",
    "    print(e)"
   ]
  },
  {
   "cell_type": "code",
   "execution_count": 18,
   "metadata": {},
   "outputs": [],
   "source": [
    "# Insert second data into students table\n",
    "try:\n",
    "    cur.execute(\"INSERT INTO students (student_id, name, age, gender, subject, marks) \\\n",
    "                VALUES (%s, %s, %s, %s, %s, %s)\", \\\n",
    "                    (2, \"See\", 23, \"Male\", \"python\", 80))\n",
    "except psycopg2.Error as e:\n",
    "    print(\"Error: Insert data to tables\")\n",
    "    print(e)"
   ]
  },
  {
   "cell_type": "code",
   "execution_count": 26,
   "metadata": {},
   "outputs": [
    {
     "name": "stdout",
     "output_type": "stream",
     "text": [
      "(1, 'Lee', 23, 'Male', 'python', 85)\n",
      "(2, 'See', 23, 'Male', 'python', 80)\n"
     ]
    }
   ],
   "source": [
    "# Display inserted data\n",
    "try:\n",
    "    cur.execute(\"SELECT * FROM students\")\n",
    "except psycopg2.Error as e:\n",
    "    print(e)\n",
    "\n",
    "row = cur.fetchone()\n",
    "while row:\n",
    "    print(row)\n",
    "    row = cur.fetchone()"
   ]
  },
  {
   "cell_type": "code",
   "execution_count": null,
   "metadata": {},
   "outputs": [],
   "source": [
    "# Close cursor and connection\n",
    "cur.close()\n",
    "conn.close()"
   ]
  }
 ],
 "metadata": {
  "kernelspec": {
   "display_name": "venv",
   "language": "python",
   "name": "python3"
  },
  "language_info": {
   "codemirror_mode": {
    "name": "ipython",
    "version": 3
   },
   "file_extension": ".py",
   "mimetype": "text/x-python",
   "name": "python",
   "nbconvert_exporter": "python",
   "pygments_lexer": "ipython3",
   "version": "3.11.5"
  }
 },
 "nbformat": 4,
 "nbformat_minor": 2
}
